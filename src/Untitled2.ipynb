{
 "cells": [
  {
   "cell_type": "code",
   "execution_count": 2,
   "id": "b5cfc2e2",
   "metadata": {},
   "outputs": [
    {
     "data": {
      "text/plain": [
       "cdumpDF: org.apache.spark.sql.DataFrame = [alternate_names: array<string>, authors: array<struct<author:struct<key:string>,key:string,type:string>> ... 74 more fields]\n"
      ]
     },
     "execution_count": 2,
     "metadata": {},
     "output_type": "execute_result"
    }
   ],
   "source": [
    "val cdumpDF=spark.read.parquet(\"./ol_cdump\")\n"
   ]
  },
  {
   "cell_type": "code",
   "execution_count": 10,
   "id": "eb1e78f6",
   "metadata": {},
   "outputs": [],
   "source": [
    "cdumpDF.select(\"*\").write.saveAsTable(\"cdump\")\n"
   ]
  },
  {
   "cell_type": "code",
   "execution_count": 12,
   "id": "3e08670d",
   "metadata": {},
   "outputs": [
    {
     "name": "stdout",
     "output_type": "stream",
     "text": [
      "root\n",
      " |-- alternate_names: array (nullable = true)\n",
      " |    |-- element: string (containsNull = true)\n",
      " |-- authors: array (nullable = true)\n",
      " |    |-- element: struct (containsNull = true)\n",
      " |    |    |-- author: struct (nullable = true)\n",
      " |    |    |    |-- key: string (nullable = true)\n",
      " |    |    |-- key: string (nullable = true)\n",
      " |    |    |-- type: string (nullable = true)\n",
      " |-- bio: string (nullable = true)\n",
      " |-- birth_date: string (nullable = true)\n",
      " |-- by_statement: string (nullable = true)\n",
      " |-- contributions: array (nullable = true)\n",
      " |    |-- element: string (containsNull = true)\n",
      " |-- contributors: array (nullable = true)\n",
      " |    |-- element: struct (containsNull = true)\n",
      " |    |    |-- name: string (nullable = true)\n",
      " |    |    |-- role: string (nullable = true)\n",
      " |-- copyright_date: string (nullable = true)\n",
      " |-- covers: array (nullable = true)\n",
      " |    |-- element: long (containsNull = true)\n",
      " |-- created: struct (nullable = true)\n",
      " |    |-- type: string (nullable = true)\n",
      " |    |-- value: string (nullable = true)\n",
      " |-- death_date: string (nullable = true)\n",
      " |-- description: string (nullable = true)\n",
      " |-- dewey_decimal_class: array (nullable = true)\n",
      " |    |-- element: string (containsNull = true)\n",
      " |-- dewey_number: array (nullable = true)\n",
      " |    |-- element: string (containsNull = true)\n",
      " |-- download_url: array (nullable = true)\n",
      " |    |-- element: string (containsNull = true)\n",
      " |-- edition_name: string (nullable = true)\n",
      " |-- excerpts: array (nullable = true)\n",
      " |    |-- element: struct (containsNull = true)\n",
      " |    |    |-- excerpt: struct (nullable = true)\n",
      " |    |    |    |-- type: string (nullable = true)\n",
      " |    |    |    |-- value: string (nullable = true)\n",
      " |    |    |-- page: string (nullable = true)\n",
      " |-- first_publish_date: string (nullable = true)\n",
      " |-- first_sentence: string (nullable = true)\n",
      " |-- full_title: string (nullable = true)\n",
      " |-- fuller_name: string (nullable = true)\n",
      " |-- genres: array (nullable = true)\n",
      " |    |-- element: string (containsNull = true)\n",
      " |-- ia_box_id: array (nullable = true)\n",
      " |    |-- element: string (containsNull = true)\n",
      " |-- ia_loaded_id: string (nullable = true)\n",
      " |-- identifiers: struct (nullable = true)\n",
      " |    |-- amazon: array (nullable = true)\n",
      " |    |    |-- element: string (containsNull = true)\n",
      " |    |-- amazon.co.uk_asin: array (nullable = true)\n",
      " |    |    |-- element: string (containsNull = true)\n",
      " |    |-- goodreads: array (nullable = true)\n",
      " |    |    |-- element: string (containsNull = true)\n",
      " |    |-- librarything: array (nullable = true)\n",
      " |    |    |-- element: string (containsNull = true)\n",
      " |-- isbn_10: array (nullable = true)\n",
      " |    |-- element: string (containsNull = true)\n",
      " |-- isbn_13: array (nullable = true)\n",
      " |    |-- element: string (containsNull = true)\n",
      " |-- isbn_invalid: array (nullable = true)\n",
      " |    |-- element: string (containsNull = true)\n",
      " |-- isbn_odd_length: array (nullable = true)\n",
      " |    |-- element: string (containsNull = true)\n",
      " |-- key: string (nullable = true)\n",
      " |-- languages: array (nullable = true)\n",
      " |    |-- element: struct (containsNull = true)\n",
      " |    |    |-- key: string (nullable = true)\n",
      " |-- last_modified: struct (nullable = true)\n",
      " |    |-- type: string (nullable = true)\n",
      " |    |-- value: string (nullable = true)\n",
      " |-- latest_revision: long (nullable = true)\n",
      " |-- lc_classifications: array (nullable = true)\n",
      " |    |-- element: string (containsNull = true)\n",
      " |-- lccn: array (nullable = true)\n",
      " |    |-- element: string (containsNull = true)\n",
      " |-- links: array (nullable = true)\n",
      " |    |-- element: struct (containsNull = true)\n",
      " |    |    |-- title: string (nullable = true)\n",
      " |    |    |-- type: struct (nullable = true)\n",
      " |    |    |    |-- key: string (nullable = true)\n",
      " |    |    |-- url: string (nullable = true)\n",
      " |-- location: string (nullable = true)\n",
      " |-- name: string (nullable = true)\n",
      " |-- notes: string (nullable = true)\n",
      " |-- number_of_pages: long (nullable = true)\n",
      " |-- ocaid: string (nullable = true)\n",
      " |-- oclc_number: array (nullable = true)\n",
      " |    |-- element: string (containsNull = true)\n",
      " |-- oclc_numbers: array (nullable = true)\n",
      " |    |-- element: string (containsNull = true)\n",
      " |-- other_titles: array (nullable = true)\n",
      " |    |-- element: string (containsNull = true)\n",
      " |-- pagination: string (nullable = true)\n",
      " |-- personal_name: string (nullable = true)\n",
      " |-- photos: array (nullable = true)\n",
      " |    |-- element: long (containsNull = true)\n",
      " |-- physical_dimensions: string (nullable = true)\n",
      " |-- physical_format: string (nullable = true)\n",
      " |-- publish_country: string (nullable = true)\n",
      " |-- publish_date: string (nullable = true)\n",
      " |-- publish_places: array (nullable = true)\n",
      " |    |-- element: string (containsNull = true)\n",
      " |-- publishers: array (nullable = true)\n",
      " |    |-- element: string (containsNull = true)\n",
      " |-- purchase_url: array (nullable = true)\n",
      " |    |-- element: string (containsNull = true)\n",
      " |-- revision: long (nullable = true)\n",
      " |-- series: array (nullable = true)\n",
      " |    |-- element: string (containsNull = true)\n",
      " |-- source_records: array (nullable = true)\n",
      " |    |-- element: string (containsNull = true)\n",
      " |-- subject_people: array (nullable = true)\n",
      " |    |-- element: string (containsNull = true)\n",
      " |-- subject_place: array (nullable = true)\n",
      " |    |-- element: string (containsNull = true)\n",
      " |-- subject_places: array (nullable = true)\n",
      " |    |-- element: string (containsNull = true)\n",
      " |-- subject_time: array (nullable = true)\n",
      " |    |-- element: string (containsNull = true)\n",
      " |-- subject_times: array (nullable = true)\n",
      " |    |-- element: string (containsNull = true)\n",
      " |-- subjects: array (nullable = true)\n",
      " |    |-- element: string (containsNull = true)\n",
      " |-- subtitle: string (nullable = true)\n",
      " |-- table_of_contents: array (nullable = true)\n",
      " |    |-- element: struct (containsNull = true)\n",
      " |    |    |-- class: string (nullable = true)\n",
      " |    |    |-- label: string (nullable = true)\n",
      " |    |    |-- level: long (nullable = true)\n",
      " |    |    |-- pagenum: string (nullable = true)\n",
      " |    |    |-- title: string (nullable = true)\n",
      " |    |    |-- type: string (nullable = true)\n",
      " |    |    |-- value: string (nullable = true)\n",
      " |-- title: string (nullable = true)\n",
      " |-- title_prefix: string (nullable = true)\n",
      " |-- type: struct (nullable = true)\n",
      " |    |-- key: string (nullable = true)\n",
      " |-- uri_descriptions: array (nullable = true)\n",
      " |    |-- element: string (containsNull = true)\n",
      " |-- uris: array (nullable = true)\n",
      " |    |-- element: string (containsNull = true)\n",
      " |-- url: array (nullable = true)\n",
      " |    |-- element: string (containsNull = true)\n",
      " |-- website: string (nullable = true)\n",
      " |-- weight: string (nullable = true)\n",
      " |-- work_title: array (nullable = true)\n",
      " |    |-- element: string (containsNull = true)\n",
      " |-- work_titles: array (nullable = true)\n",
      " |    |-- element: string (containsNull = true)\n",
      " |-- works: array (nullable = true)\n",
      " |    |-- element: struct (containsNull = true)\n",
      " |    |    |-- key: string (nullable = true)\n",
      "\n"
     ]
    }
   ],
   "source": [
    "cdumpDF.printSchema\n"
   ]
  },
  {
   "cell_type": "code",
   "execution_count": 11,
   "id": "3d2ea9f3",
   "metadata": {},
   "outputs": [
    {
     "name": "stdout",
     "output_type": "stream",
     "text": [
      "+---------------+-----------------------------------+----+----------+--------------------------------------------------------------+---------------------------------------------------------------------+------------+--------------+---------+--------------------------------------------+----------+-----------+-------------------+------------+------------+------------+--------+------------------+--------------+----------+-----------+------+---------+------------+------------------------+------------+---------------+------------+---------------+------------------+------------------+--------------------------------------------+---------------+------------------+----+-----+--------+----+------------------------------------------------------------------------------------------------------------------------------------------+---------------+-----+-----------+------------+--------------------+-----------------------+-------------+------+-------------------+---------------+---------------+------------+-----------------------+--------------------------------------------+------------+--------+---------------------------------------------------------------------+--------------+--------------+-------------+--------------+------------+-------------+-------------------------------------------------------------------------------+---------------------------------------------+------------------------------------------------------------------------------------------------------------------------------------------------------------------------------------------------------------+------------------------------------------------------------------------+------------+---------------+----------------+----+----+-------+------+----------+-----------+----------------------+\n",
      "|alternate_names|authors                            |bio |birth_date|by_statement                                                  |contributions                                                        |contributors|copyright_date|covers   |created                                     |death_date|description|dewey_decimal_class|dewey_number|download_url|edition_name|excerpts|first_publish_date|first_sentence|full_title|fuller_name|genres|ia_box_id|ia_loaded_id|identifiers             |isbn_10     |isbn_13        |isbn_invalid|isbn_odd_length|key               |languages         |last_modified                               |latest_revision|lc_classifications|lccn|links|location|name|notes                                                                                                                                     |number_of_pages|ocaid|oclc_number|oclc_numbers|other_titles        |pagination             |personal_name|photos|physical_dimensions|physical_format|publish_country|publish_date|publish_places         |publishers                                  |purchase_url|revision|series                                                               |source_records|subject_people|subject_place|subject_places|subject_time|subject_times|subjects                                                                       |subtitle                                     |table_of_contents                                                                                                                                                                                           |title                                                                   |title_prefix|type           |uri_descriptions|uris|url |website|weight|work_title|work_titles|works                 |\n",
      "+---------------+-----------------------------------+----+----------+--------------------------------------------------------------+---------------------------------------------------------------------+------------+--------------+---------+--------------------------------------------+----------+-----------+-------------------+------------+------------+------------+--------+------------------+--------------+----------+-----------+------+---------+------------+------------------------+------------+---------------+------------+---------------+------------------+------------------+--------------------------------------------+---------------+------------------+----+-----+--------+----+------------------------------------------------------------------------------------------------------------------------------------------+---------------+-----+-----------+------------+--------------------+-----------------------+-------------+------+-------------------+---------------+---------------+------------+-----------------------+--------------------------------------------+------------+--------+---------------------------------------------------------------------+--------------+--------------+-------------+--------------+------------+-------------+-------------------------------------------------------------------------------+---------------------------------------------+------------------------------------------------------------------------------------------------------------------------------------------------------------------------------------------------------------+------------------------------------------------------------------------+------------+---------------+----------------+----+----+-------+------+----------+-----------+----------------------+\n",
      "|null           |[{null, /authors/OL1345569A, null}]|null|null      |by Margot Jefferys ; with the assistance of Winifred Moss.    |null                                                                 |null        |null          |null     |{/type/datetime, 2009-01-07T02:41:41.325443}|null      |null       |[331.1270942166]   |null        |null        |null        |null    |null              |null          |null      |null       |null  |null     |null        |null                    |null        |null           |null        |null           |/books/OL22840552M|[{/languages/eng}]|{/type/datetime, 2009-12-15T08:05:57.588132}|2              |null              |null|null |null    |null|null                                                                                                                                      |160            |null |null       |null        |null                |160p.,23cm             |null         |null  |null               |null           |xxk            |1954        |[London]               |[Routledge & Kegan Paul]                    |null        |2       |[International library of sociology and social reconstruction series]|null          |null          |null         |null          |null        |null         |null                                                                           |employment changes in Battersea and Dagenham |null                                                                                                                                                                                                        |Mobility in the labour market                                           |null        |{/type/edition}|null            |null|null|null   |null  |null      |null       |[{/works/OL5591618W}] |\n",
      "|null           |[{null, /authors/OL4586832A, null}]|null|null      |Jack Higgins.                                                 |null                                                                 |null        |null          |null     |{/type/datetime, 2009-01-07T02:42:02.100557}|null      |null       |[823/.914]         |null        |null        |null        |null    |null              |null          |null      |null       |null  |null     |null        |null                    |[0517101815]|null           |null        |null           |/books/OL22840554M|[{/languages/eng}]|{/type/datetime, 2009-12-15T08:05:57.588132}|2              |[PR6058.I343]     |null|null |null    |null|null                                                                                                                                      |674            |null |null       |null        |[3 complete novels.]|674 p. ;               |null         |null  |null               |null           |xxu            |1994        |[New York, Avenel, N.J]|[Wings Books, Distributed by Outlet Book Co]|null        |2       |null                                                                 |null          |null          |null         |null          |null        |null         |[World War, 1939-1945 -- Fiction., War stories, English.]                      |null                                         |[{null, null, null, null, null, /type/text, Contents, The eagle has landed}, {null, null, null, null, null, /type/text, The eagle has flown}, {null, null, null, null, null, /type/text, Night of the fox.}]|Three complete novels                                                   |null        |{/type/edition}|null            |null|null|null   |null  |null      |[Novels.]  |[{/works/OL11018007W}]|\n",
      "|null           |[{null, /authors/OL3503078A, null}]|null|null      |Kim Rivers, Peter Aggleton and Geoff Whitty.                  |[Aggleton, Peter, 1952-, Whitty, Geoff., Health Education Authority.]|null        |null          |null     |{/type/datetime, 2009-01-07T02:42:20.179636}|null      |null       |null               |null        |null        |null        |null    |null              |null          |null      |null       |null  |null     |null        |null                    |[0752111574]|null           |null        |null           |/books/OL22840556M|[{/languages/eng}]|{/type/datetime, 2009-12-15T08:05:57.588132}|2              |null              |null|null |null    |null|null                                                                                                                                      |null           |null |null       |null        |null                |null                   |null         |null  |null               |null           |xxk            |1998        |[London]               |[Health Education Authority]                |null        |2       |null                                                                 |null          |null          |null         |null          |null        |null         |null                                                                           |null                                         |null                                                                                                                                                                                                        |Professional development in health promotion                            |null        |{/type/edition}|null            |null|null|null   |null  |null      |null       |[{/works/OL9488681W}] |\n",
      "|null           |null                               |null|null      |null                                                          |null                                                                 |null        |null          |[7118593]|{/type/datetime, 2012-05-14T13:48:11.978484}|null      |null       |null               |null        |null        |null        |null    |null              |null          |null      |null       |null  |null     |null        |{null, null, null, null}|null        |[9780670012886]|null        |null           |/books/OL25311798M|null              |{/type/datetime, 2012-05-14T13:48:37.872629}|2              |null              |null|null |null    |null|null                                                                                                                                      |null           |null |null       |null        |null                |null                   |null         |null  |null               |null           |null           |2011        |null                   |[Penguin]                                   |null        |2       |null                                                                 |null          |null          |null         |null          |null        |null         |null                                                                           |null                                         |null                                                                                                                                                                                                        |Road Work Ahead                                                         |null        |{/type/edition}|null            |null|null|null   |null  |null      |null       |[{/works/OL16505797W}]|\n",
      "|null           |[{null, /authors/OL5282512A, null}]|null|null      |Brian Knapp.                                                  |null                                                                 |null        |null          |null     |{/type/datetime, 2009-01-07T02:42:36.875606}|null      |null       |null               |null        |null        |null        |null    |null              |null          |null      |null       |null  |null     |null        |null                    |[0431007268]|null           |null        |null           |/books/OL22840558M|[{/languages/eng}]|{/type/datetime, 2009-12-15T08:05:57.588132}|2              |null              |null|null |null    |null|{\"type\":\"/type/text\",\"value\":\"Includes index.\"}                                                                                           |48             |null |null       |null        |null                |48p. :                 |null         |null  |null               |null           |xxk            |1989        |[Oxford]               |[Heinemann Children's Reference]            |null        |2       |[World disasters]                                                    |null          |null          |null         |null          |null        |null         |null                                                                           |null                                         |null                                                                                                                                                                                                        |Flood                                                                   |null        |{/type/edition}|null            |null|null|null   |null  |null      |null       |[{/works/OL12163112W}]|\n",
      "|null           |[{null, /authors/OL4445527A, null}]|null|null      |told and illustrated by Tony Ross.                            |null                                                                 |null        |null          |null     |{/type/datetime, 2009-01-07T02:42:52.015211}|null      |null       |[823.914]          |null        |null        |null        |null    |null              |null          |null      |null       |null  |null     |null        |null                    |[0140331212]|null           |null        |null           |/books/OL22840559M|[{/languages/eng}]|{/type/datetime, 2009-12-15T08:05:57.588132}|2              |null              |null|null |null    |null|null                                                                                                                                      |44             |null |null       |null        |null                |(44)p.                 |null         |null  |null               |null           |enk            |1988        |null                   |[Pocket Puffins]                            |null        |2       |null                                                                 |null          |null          |null         |null          |null        |null         |null                                                                           |null                                         |null                                                                                                                                                                                                        |Puss in Boots                                                           |null        |{/type/edition}|null            |null|null|null   |null  |null      |null       |[{/works/OL10663009W}]|\n"
     ]
    },
    {
     "name": "stdout",
     "output_type": "stream",
     "text": [
      "|null           |[{null, /authors/OL6545644A, null}]|null|null      |null                                                          |null                                                                 |null        |null          |null     |{/type/datetime, 2009-01-07T02:43:37.259809}|null      |null       |null               |null        |null        |null        |null    |null              |null          |null      |null       |null  |null     |null        |null                    |null        |null           |null        |null           |/books/OL22840560M|[{/languages/eng}]|{/type/datetime, 2009-12-15T08:05:57.588132}|2              |null              |null|null |null    |null|null                                                                                                                                      |null           |null |null       |null        |null                |null                   |null         |null  |null               |null           |xxk            |null        |[London]               |[Colefax and Fowler Group PLC.]             |null        |2       |null                                                                 |null          |null          |null         |null          |null        |null         |null                                                                           |null                                         |null                                                                                                                                                                                                        |Annual Report and Accounts.                                             |null        |{/type/edition}|null            |null|null|null   |null  |null      |null       |[{/works/OL13691200W}]|\n",
      "|null           |[{null, /authors/OL6545645A, null}]|null|null      |null                                                          |null                                                                 |null        |null          |null     |{/type/datetime, 2009-01-07T02:44:06.300172}|null      |null       |null               |null        |null        |null        |null    |null              |null          |null      |null       |null  |null     |null        |null                    |null        |null           |null        |null           |/books/OL22840561M|[{/languages/eng}]|{/type/datetime, 2009-12-15T08:05:57.588132}|2              |null              |null|null |null    |null|null                                                                                                                                      |null           |null |null       |null        |null                |null                   |null         |null  |null               |null           |xxk            |null        |[London]               |[Copyright Promotions Group plc.]           |null        |2       |null                                                                 |null          |null          |null         |null          |null        |null         |null                                                                           |null                                         |null                                                                                                                                                                                                        |Report and Accounts.                                                    |null        |{/type/edition}|null            |null|null|null   |null  |null      |null       |[{/works/OL13691201W}]|\n",
      "|null           |[{null, /authors/OL4416445A, null}]|null|null      |Danielle Steel ; based on a screenplay by Garry Michael White.|null                                                                 |null        |null          |null     |{/type/datetime, 2009-01-07T02:45:07.535851}|null      |null       |[813/.54]          |null        |null        |null        |null    |null              |null          |null      |null       |null  |null     |null        |null                    |[0861882482]|null           |null        |null           |/books/OL22840564M|[{/languages/eng}]|{/type/datetime, 2009-12-15T08:05:57.588132}|2              |[PS3569.T33828]   |null|null |null    |null|{\"type\":\"/type/text\",\"value\":\"Originally published, London , Sphere, 1978.\"}                                                              |222            |null |null       |null        |null                |222p. ;                |null         |null  |null               |null           |xxk            |1983        |[Loughton]             |[Piatkus]                                   |null        |2       |null                                                                 |null          |null          |null         |null          |null        |null         |null                                                                           |null                                         |null                                                                                                                                                                                                        |The promise                                                             |null        |{/type/edition}|null            |null|null|null   |null  |null      |null       |[{/works/OL10614097W}]|\n",
      "|null           |[{null, /authors/OL6545646A, null}]|null|null      |null                                                          |null                                                                 |null        |null          |null     |{/type/datetime, 2009-01-07T02:45:45.248351}|null      |null       |null               |null        |null        |null        |null    |null              |null          |null      |null       |null  |null     |null        |null                    |null        |null           |null        |null           |/books/OL22840566M|[{/languages/eng}]|{/type/datetime, 2009-12-15T08:05:57.588132}|2              |null              |null|null |null    |null|null                                                                                                                                      |null           |null |null       |null        |null                |null                   |null         |null  |null               |null           |xxk            |null        |[Cambridge]            |[Cantab Pharmaceuticals plc.]               |null        |2       |null                                                                 |null          |null          |null         |null          |null        |null         |null                                                                           |null                                         |null                                                                                                                                                                                                        |Annual Report and Accounts.                                             |null        |{/type/edition}|null            |null|null|null   |null  |null      |null       |[{/works/OL13691202W}]|\n"
     ]
    },
    {
     "name": "stdout",
     "output_type": "stream",
     "text": [
      "|null           |[{null, /authors/OL6545647A, null}]|null|null      |M.M.Roushdi.                                                  |[University of Surrey. Depoartment of Management Studies.]           |null        |null          |null     |{/type/datetime, 2009-01-07T02:45:47.836411}|null      |null       |null               |null        |null        |null        |null    |null              |null          |null      |null       |null  |null     |null        |null                    |null        |null           |null        |null           |/books/OL22840567M|[{/languages/eng}]|{/type/datetime, 2009-12-15T08:05:57.588132}|2              |null              |null|null |null    |null|{\"type\":\"/type/text\",\"value\":\"Thesis (M.Sc.) - University of Surrey, 1997.\"}                                                              |null           |null |null       |null        |null                |null                   |null         |null  |null               |null           |xxk            |1997        |null                   |null                                        |null        |2       |null                                                                 |null          |null          |null         |null          |null        |null         |null                                                                           |a study of General Motors Egypt              |null                                                                                                                                                                                                        |The influence of demographic profile on total quality management process|null        |{/type/edition}|null            |null|null|null   |null  |null      |null       |[{/works/OL13691203W}]|\n",
      "|null           |[{null, /authors/OL1824428A, null}]|null|null      |[compiled by Pat Ellender].                                   |[Water Information Centre (Great Britain)]                           |null        |null          |null     |{/type/datetime, 2009-01-07T02:45:49.969429}|null      |null       |null               |null        |null        |null        |null    |null              |null          |null      |null       |null  |null     |null        |null                    |[0904561119]|null           |null        |null           |/books/OL22840568M|[{/languages/eng}]|{/type/datetime, 2009-12-15T08:05:57.588132}|2              |null              |null|null |null    |null|null                                                                                                                                      |14             |null |null       |null        |null                |[14 leaves] ;          |null         |null  |null               |null           |xxk            |1976        |[London]               |[Water Information Centre]                  |null        |2       |[Bibliography / Water Information Centre -- no.9]                    |null          |null          |null         |null          |null        |null         |null                                                                           |null                                         |null                                                                                                                                                                                                        |Fisheries management                                                    |null        |{/type/edition}|null            |null|null|null   |null  |null      |null       |[{/works/OL6734210W}] |\n",
      "|null           |[{null, /authors/OL6545648A, null}]|null|null      |null                                                          |null                                                                 |null        |null          |null     |{/type/datetime, 2009-01-07T02:46:32.720473}|null      |null       |null               |null        |null        |null        |null    |null              |null          |null      |null       |null  |null     |null        |null                    |null        |null           |null        |null           |/books/OL22840571M|[{/languages/eng}]|{/type/datetime, 2009-12-15T08:05:57.588132}|2              |null              |null|null |null    |null|null                                                                                                                                      |null           |null |null       |null        |null                |null                   |null         |null  |null               |null           |xxk            |null        |[Aylesbury]            |[Clayhithe plc.]                            |null        |2       |null                                                                 |null          |null          |null         |null          |null        |null         |null                                                                           |null                                         |null                                                                                                                                                                                                        |Annual Report and Accounts.                                             |null        |{/type/edition}|null            |null|null|null   |null  |null      |null       |[{/works/OL13691204W}]|\n",
      "|null           |[{null, /authors/OL215689A, null}] |null|null      |by G.A. Henty ; with twelve illustrations by W. Parkinson.    |null                                                                 |null        |null          |null     |{/type/datetime, 2009-01-07T02:46:34.373478}|null      |null       |null               |null        |null        |null        |null    |null              |null          |null      |null       |null  |null     |null        |null                    |null        |null           |null        |null           |/books/OL22840572M|[{/languages/eng}]|{/type/datetime, 2009-12-15T08:05:57.588132}|2              |null              |null|null |null    |null|null                                                                                                                                      |383            |null |null       |null        |null                |383p. ;                |null         |null  |null               |null           |xxk            |1895        |[London]               |[Blackie & Son]                             |null        |2       |[Mr. Henty's historical tales]                                       |null          |null          |null         |null          |null        |null         |null                                                                           |a story of the Roman invasion                |null                                                                                                                                                                                                        |Beric the Briton                                                        |null        |{/type/edition}|null            |null|null|null   |null  |null      |null       |[{/works/OL1794659W}] |\n",
      "|null           |[{null, /authors/OL6545649A, null}]|null|null      |null                                                          |null                                                                 |null        |null          |null     |{/type/datetime, 2009-01-07T02:47:07.785697}|null      |null       |null               |null        |null        |null        |null    |null              |null          |null      |null       |null  |null     |null        |null                    |null        |null           |null        |null           |/books/OL22840573M|[{/languages/eng}]|{/type/datetime, 2009-12-15T08:05:57.588132}|2              |null              |null|null |null    |null|null                                                                                                                                      |null           |null |null       |null        |null                |null                   |null         |null  |null               |null           |xxk            |null        |[Uxbridge]             |[Clarke, Nickolls & Coombs plc.]            |null        |2       |null                                                                 |null          |null          |null         |null          |null        |null         |null                                                                           |null                                         |null                                                                                                                                                                                                        |Annual Report and Accounts.                                             |null        |{/type/edition}|null            |null|null|null   |null  |null      |null       |[{/works/OL13691205W}]|\n"
     ]
    },
    {
     "name": "stdout",
     "output_type": "stream",
     "text": [
      "|null           |[{null, /authors/OL6545650A, null}]|null|null      |null                                                          |null                                                                 |null        |null          |null     |{/type/datetime, 2009-01-07T02:47:41.634744}|null      |null       |null               |null        |null        |null        |null    |null              |null          |null      |null       |null  |null     |null        |null                    |null        |null           |null        |null           |/books/OL22840574M|[{/languages/eng}]|{/type/datetime, 2009-12-15T08:05:57.588132}|2              |null              |null|null |null    |null|null                                                                                                                                      |null           |null |null       |null        |null                |null                   |null         |null  |null               |null           |xxk            |null        |[Portsmouth]           |[City Technology Holdings plc.]             |null        |2       |null                                                                 |null          |null          |null         |null          |null        |null         |null                                                                           |null                                         |null                                                                                                                                                                                                        |Annual Report and Accounts.                                             |null        |{/type/edition}|null            |null|null|null   |null  |null      |null       |[{/works/OL13691206W}]|\n",
      "|null           |[{null, /authors/OL403570A, null}] |null|null      |by William E. Burrows.                                        |null                                                                 |null        |null          |null     |{/type/datetime, 2009-01-07T02:47:47.620774}|null      |null       |[940.4/49/430924]  |null        |null        |null        |null    |null              |null          |null      |null       |null  |null     |null        |null                    |[0246639962]|null           |null        |null           |/books/OL22840575M|[{/languages/eng}]|{/type/datetime, 2009-12-15T08:05:57.588132}|2              |[D604]            |null|null |null    |null|{\"type\":\"/type/text\",\"value\":\"Maps on lining papers.\\n\\nOriginally published, New York: Harcourt, Brace & World, 1969.\\n\\nbibl p259-260.\"}|268            |null |null       |null        |null                |(1),xvi,268p.,8plates :|null         |null  |null               |null           |xxk            |1970        |[London]               |[Hart-Davis]                                |null        |2       |null                                                                 |null          |null          |null         |null          |null        |null         |[Richthofen, Manfred, -- freiherr von.]                                        |null                                         |null                                                                                                                                                                                                        |Richthofen: a true history of the Red Baron                             |null        |{/type/edition}|null            |null|null|null   |null  |null      |null       |[{/works/OL2750433W}] |\n",
      "|null           |[{null, /authors/OL4833782A, null}]|null|null      |Joachim Gnilka.                                               |null                                                                 |null        |null          |null     |{/type/datetime, 2009-01-07T02:47:57.122265}|null      |null       |null               |null        |null        |null        |null    |null              |null          |null      |null       |null  |null     |null        |null                    |[3451261154]|null           |null        |null           |/books/OL22840576M|[{/languages/ger}]|{/type/datetime, 2009-12-15T08:05:57.588132}|2              |null              |null|null |null    |null|null                                                                                                                                      |332            |null |null       |null        |null                |332p.,(2)p. of plates :|null         |null  |null               |null           |sw             |1996        |[Freiburg]             |[Herder]                                    |null        |2       |[Herders theologischer Kommentar zum Neuen Testament -- 6]           |null          |null          |null         |null          |null        |null         |[Paul, -- the Apostle, Saint., Bible. -- N.T. -- Epistles of Paul -- Theology.]|Apostel und Zeuge                            |null                                                                                                                                                                                                        |Paulus von Tarsus                                                       |null        |{/type/edition}|null            |null|null|null   |null  |null      |null       |[{/works/OL11480643W}]|\n",
      "|null           |[{null, /authors/OL216395A, null}] |null|null      |by Edward Jablonski.                                          |null                                                                 |null        |null          |null     |{/type/datetime, 2009-01-07T02:47:58.104716}|null      |null       |[940.44]           |null        |null        |null        |null    |null              |null          |null      |null       |null  |null     |null        |null                    |null        |null           |null        |null           |/books/OL22840577M|[{/languages/eng}]|{/type/datetime, 2009-12-15T08:05:57.588132}|2              |null              |null|null |null    |null|null                                                                                                                                      |241            |null |null       |null        |null                |241p.,ill.,27cm        |null         |null  |null               |null           |xxk            |1964        |[London]               |[Nelson]                                    |null        |2       |null                                                                 |null          |null          |null         |null          |null        |null         |null                                                                           |a pictorial history of World War I in the air|null                                                                                                                                                                                                        |The knighted skies                                                      |null        |{/type/edition}|null            |null|null|null   |null  |null      |null       |[{/works/OL1803582W}] |\n",
      "|null           |[{null, /authors/OL6545651A, null}]|null|null      |null                                                          |null                                                                 |null        |null          |null     |{/type/datetime, 2009-01-07T02:48:28.937063}|null      |null       |null               |null        |null        |null        |null    |null              |null          |null      |null       |null  |null     |null        |null                    |null        |null           |null        |null           |/books/OL22840579M|[{/languages/eng}]|{/type/datetime, 2009-12-15T08:05:57.588132}|2              |null              |null|null |null    |null|null                                                                                                                                      |null           |null |null       |null        |null                |null                   |null         |null  |null               |null           |xxk            |null        |[London]               |[CLM Insurance Fund PLC.]                   |null        |2       |null                                                                 |null          |null          |null         |null          |null        |null         |null                                                                           |null                                         |null                                                                                                                                                                                                        |Report and Accounts.                                                    |null        |{/type/edition}|null            |null|null|null   |null  |null      |null       |[{/works/OL13691207W}]|\n"
     ]
    },
    {
     "name": "stdout",
     "output_type": "stream",
     "text": [
      "+---------------+-----------------------------------+----+----------+--------------------------------------------------------------+---------------------------------------------------------------------+------------+--------------+---------+--------------------------------------------+----------+-----------+-------------------+------------+------------+------------+--------+------------------+--------------+----------+-----------+------+---------+------------+------------------------+------------+---------------+------------+---------------+------------------+------------------+--------------------------------------------+---------------+------------------+----+-----+--------+----+------------------------------------------------------------------------------------------------------------------------------------------+---------------+-----+-----------+------------+--------------------+-----------------------+-------------+------+-------------------+---------------+---------------+------------+-----------------------+--------------------------------------------+------------+--------+---------------------------------------------------------------------+--------------+--------------+-------------+--------------+------------+-------------+-------------------------------------------------------------------------------+---------------------------------------------+------------------------------------------------------------------------------------------------------------------------------------------------------------------------------------------------------------+------------------------------------------------------------------------+------------+---------------+----------------+----+----+-------+------+----------+-----------+----------------------+\n",
      "only showing top 20 rows\n",
      "\n"
     ]
    }
   ],
   "source": [
    "spark.sql(\"select * from cdump limit 30\").show(false)"
   ]
  },
  {
   "cell_type": "code",
   "execution_count": 3,
   "id": "9a626e27",
   "metadata": {},
   "outputs": [
    {
     "data": {
      "text/plain": [
       "authorsDF: org.apache.spark.sql.DataFrame = [authors: array<struct<author:struct<key:string>,key:string,type:string>>]\n"
      ]
     },
     "execution_count": 3,
     "metadata": {},
     "output_type": "execute_result"
    }
   ],
   "source": [
    "val authorsDF=cdumpDF.select(\"authors\")\n"
   ]
  },
  {
   "cell_type": "code",
   "execution_count": 4,
   "id": "69c858bf",
   "metadata": {},
   "outputs": [],
   "source": [
    "authorsDF.select(\"*\").write.saveAsTable(\"authors\")\n"
   ]
  },
  {
   "cell_type": "code",
   "execution_count": 9,
   "id": "aa4e9637",
   "metadata": {
    "scrolled": false
   },
   "outputs": [
    {
     "name": "stdout",
     "output_type": "stream",
     "text": [
      "+------------------------------------------------------------+\n",
      "|authors                                                     |\n",
      "+------------------------------------------------------------+\n",
      "|[{null, /authors/OL6535896A, null}]                         |\n",
      "|[{null, /authors/OL6535897A, null}]                         |\n",
      "|[{null, /authors/OL6535898A, null}]                         |\n",
      "|[{null, /authors/OL5900510A, null}]                         |\n",
      "|[{null, /authors/OL135548A, null}]                          |\n",
      "|[{null, /authors/OL6535899A, null}]                         |\n",
      "|[{null, /authors/OL4476275A, null}]                         |\n",
      "|[{{/authors/OL5360212A}, null, {\"key\":\"/type/author_role\"}}]|\n",
      "|[{null, /authors/OL133670A, null}]                          |\n",
      "|[{null, /authors/OL6535900A, null}]                         |\n",
      "|[{null, /authors/OL6535901A, null}]                         |\n",
      "|[{null, /authors/OL6535902A, null}]                         |\n",
      "|[{null, /authors/OL6535903A, null}]                         |\n",
      "|[{null, /authors/OL6533579A, null}]                         |\n",
      "|[{null, /authors/OL5570662A, null}]                         |\n",
      "|[{null, /authors/OL6535904A, null}]                         |\n",
      "|[{null, /authors/OL6535905A, null}]                         |\n",
      "|[{null, /authors/OL4328637A, null}]                         |\n",
      "|[{null, /authors/OL5459805A, null}]                         |\n",
      "|[{null, /authors/OL978880A, null}]                          |\n",
      "+------------------------------------------------------------+\n",
      "only showing top 20 rows\n",
      "\n"
     ]
    }
   ],
   "source": [
    "spark.sql(\"select * from authors limit 30\").show(false)"
   ]
  },
  {
   "cell_type": "code",
   "execution_count": null,
   "id": "a8bf3a79",
   "metadata": {},
   "outputs": [],
   "source": []
  },
  {
   "cell_type": "code",
   "execution_count": 13,
   "id": "1b3d9cae",
   "metadata": {},
   "outputs": [
    {
     "data": {
      "text/plain": [
       "df: org.apache.spark.sql.DataFrame = [alternate_names: array<string>, authors: array<struct<author:struct<key:string>,key:string,type:string>> ... 74 more fields]\n"
      ]
     },
     "execution_count": 13,
     "metadata": {},
     "output_type": "execute_result"
    }
   ],
   "source": [
    "val df = spark.read.json(\"./ol_cdump.json\")\n"
   ]
  },
  {
   "cell_type": "code",
   "execution_count": 14,
   "id": "49f57816",
   "metadata": {},
   "outputs": [
    {
     "name": "stdout",
     "output_type": "stream",
     "text": [
      "root\n",
      " |-- alternate_names: array (nullable = true)\n",
      " |    |-- element: string (containsNull = true)\n",
      " |-- authors: array (nullable = true)\n",
      " |    |-- element: struct (containsNull = true)\n",
      " |    |    |-- author: struct (nullable = true)\n",
      " |    |    |    |-- key: string (nullable = true)\n",
      " |    |    |-- key: string (nullable = true)\n",
      " |    |    |-- type: string (nullable = true)\n",
      " |-- bio: string (nullable = true)\n",
      " |-- birth_date: string (nullable = true)\n",
      " |-- by_statement: string (nullable = true)\n",
      " |-- contributions: array (nullable = true)\n",
      " |    |-- element: string (containsNull = true)\n",
      " |-- contributors: array (nullable = true)\n",
      " |    |-- element: struct (containsNull = true)\n",
      " |    |    |-- name: string (nullable = true)\n",
      " |    |    |-- role: string (nullable = true)\n",
      " |-- copyright_date: string (nullable = true)\n",
      " |-- covers: array (nullable = true)\n",
      " |    |-- element: long (containsNull = true)\n",
      " |-- created: struct (nullable = true)\n",
      " |    |-- type: string (nullable = true)\n",
      " |    |-- value: string (nullable = true)\n",
      " |-- death_date: string (nullable = true)\n",
      " |-- description: string (nullable = true)\n",
      " |-- dewey_decimal_class: array (nullable = true)\n",
      " |    |-- element: string (containsNull = true)\n",
      " |-- dewey_number: array (nullable = true)\n",
      " |    |-- element: string (containsNull = true)\n",
      " |-- download_url: array (nullable = true)\n",
      " |    |-- element: string (containsNull = true)\n",
      " |-- edition_name: string (nullable = true)\n",
      " |-- excerpts: array (nullable = true)\n",
      " |    |-- element: struct (containsNull = true)\n",
      " |    |    |-- excerpt: struct (nullable = true)\n",
      " |    |    |    |-- type: string (nullable = true)\n",
      " |    |    |    |-- value: string (nullable = true)\n",
      " |    |    |-- page: string (nullable = true)\n",
      " |-- first_publish_date: string (nullable = true)\n",
      " |-- first_sentence: string (nullable = true)\n",
      " |-- full_title: string (nullable = true)\n",
      " |-- fuller_name: string (nullable = true)\n",
      " |-- genres: array (nullable = true)\n",
      " |    |-- element: string (containsNull = true)\n",
      " |-- ia_box_id: array (nullable = true)\n",
      " |    |-- element: string (containsNull = true)\n",
      " |-- ia_loaded_id: string (nullable = true)\n",
      " |-- identifiers: struct (nullable = true)\n",
      " |    |-- amazon: array (nullable = true)\n",
      " |    |    |-- element: string (containsNull = true)\n",
      " |    |-- amazon.co.uk_asin: array (nullable = true)\n",
      " |    |    |-- element: string (containsNull = true)\n",
      " |    |-- goodreads: array (nullable = true)\n",
      " |    |    |-- element: string (containsNull = true)\n",
      " |    |-- librarything: array (nullable = true)\n",
      " |    |    |-- element: string (containsNull = true)\n",
      " |-- isbn_10: array (nullable = true)\n",
      " |    |-- element: string (containsNull = true)\n",
      " |-- isbn_13: array (nullable = true)\n",
      " |    |-- element: string (containsNull = true)\n",
      " |-- isbn_invalid: array (nullable = true)\n",
      " |    |-- element: string (containsNull = true)\n",
      " |-- isbn_odd_length: array (nullable = true)\n",
      " |    |-- element: string (containsNull = true)\n",
      " |-- key: string (nullable = true)\n",
      " |-- languages: array (nullable = true)\n",
      " |    |-- element: struct (containsNull = true)\n",
      " |    |    |-- key: string (nullable = true)\n",
      " |-- last_modified: struct (nullable = true)\n",
      " |    |-- type: string (nullable = true)\n",
      " |    |-- value: string (nullable = true)\n",
      " |-- latest_revision: long (nullable = true)\n",
      " |-- lc_classifications: array (nullable = true)\n",
      " |    |-- element: string (containsNull = true)\n",
      " |-- lccn: array (nullable = true)\n",
      " |    |-- element: string (containsNull = true)\n",
      " |-- links: array (nullable = true)\n",
      " |    |-- element: struct (containsNull = true)\n",
      " |    |    |-- title: string (nullable = true)\n",
      " |    |    |-- type: struct (nullable = true)\n",
      " |    |    |    |-- key: string (nullable = true)\n",
      " |    |    |-- url: string (nullable = true)\n",
      " |-- location: string (nullable = true)\n",
      " |-- name: string (nullable = true)\n",
      " |-- notes: string (nullable = true)\n",
      " |-- number_of_pages: long (nullable = true)\n",
      " |-- ocaid: string (nullable = true)\n",
      " |-- oclc_number: array (nullable = true)\n",
      " |    |-- element: string (containsNull = true)\n",
      " |-- oclc_numbers: array (nullable = true)\n",
      " |    |-- element: string (containsNull = true)\n",
      " |-- other_titles: array (nullable = true)\n",
      " |    |-- element: string (containsNull = true)\n",
      " |-- pagination: string (nullable = true)\n",
      " |-- personal_name: string (nullable = true)\n",
      " |-- photos: array (nullable = true)\n",
      " |    |-- element: long (containsNull = true)\n",
      " |-- physical_dimensions: string (nullable = true)\n",
      " |-- physical_format: string (nullable = true)\n",
      " |-- publish_country: string (nullable = true)\n",
      " |-- publish_date: string (nullable = true)\n",
      " |-- publish_places: array (nullable = true)\n",
      " |    |-- element: string (containsNull = true)\n",
      " |-- publishers: array (nullable = true)\n",
      " |    |-- element: string (containsNull = true)\n",
      " |-- purchase_url: array (nullable = true)\n",
      " |    |-- element: string (containsNull = true)\n",
      " |-- revision: long (nullable = true)\n",
      " |-- series: array (nullable = true)\n",
      " |    |-- element: string (containsNull = true)\n",
      " |-- source_records: array (nullable = true)\n",
      " |    |-- element: string (containsNull = true)\n",
      " |-- subject_people: array (nullable = true)\n",
      " |    |-- element: string (containsNull = true)\n",
      " |-- subject_place: array (nullable = true)\n",
      " |    |-- element: string (containsNull = true)\n",
      " |-- subject_places: array (nullable = true)\n",
      " |    |-- element: string (containsNull = true)\n",
      " |-- subject_time: array (nullable = true)\n",
      " |    |-- element: string (containsNull = true)\n",
      " |-- subject_times: array (nullable = true)\n",
      " |    |-- element: string (containsNull = true)\n",
      " |-- subjects: array (nullable = true)\n",
      " |    |-- element: string (containsNull = true)\n",
      " |-- subtitle: string (nullable = true)\n",
      " |-- table_of_contents: array (nullable = true)\n",
      " |    |-- element: struct (containsNull = true)\n",
      " |    |    |-- class: string (nullable = true)\n",
      " |    |    |-- label: string (nullable = true)\n",
      " |    |    |-- level: long (nullable = true)\n",
      " |    |    |-- pagenum: string (nullable = true)\n",
      " |    |    |-- title: string (nullable = true)\n",
      " |    |    |-- type: string (nullable = true)\n",
      " |    |    |-- value: string (nullable = true)\n",
      " |-- title: string (nullable = true)\n",
      " |-- title_prefix: string (nullable = true)\n",
      " |-- type: struct (nullable = true)\n",
      " |    |-- key: string (nullable = true)\n",
      " |-- uri_descriptions: array (nullable = true)\n",
      " |    |-- element: string (containsNull = true)\n",
      " |-- uris: array (nullable = true)\n",
      " |    |-- element: string (containsNull = true)\n",
      " |-- url: array (nullable = true)\n",
      " |    |-- element: string (containsNull = true)\n",
      " |-- website: string (nullable = true)\n",
      " |-- weight: string (nullable = true)\n",
      " |-- work_title: array (nullable = true)\n",
      " |    |-- element: string (containsNull = true)\n",
      " |-- work_titles: array (nullable = true)\n",
      " |    |-- element: string (containsNull = true)\n",
      " |-- works: array (nullable = true)\n",
      " |    |-- element: struct (containsNull = true)\n",
      " |    |    |-- key: string (nullable = true)\n",
      "\n"
     ]
    }
   ],
   "source": [
    "df.printSchema\n"
   ]
  },
  {
   "cell_type": "code",
   "execution_count": 19,
   "id": "79aca3ce",
   "metadata": {},
   "outputs": [
    {
     "data": {
      "text/plain": [
       "df2: org.apache.spark.sql.DataFrame = [authors: array<struct<author:struct<key:string>,key:string,type:string>>]\n"
      ]
     },
     "execution_count": 19,
     "metadata": {},
     "output_type": "execute_result"
    }
   ],
   "source": [
    "val df2=df.select($\"authors\")"
   ]
  },
  {
   "cell_type": "code",
   "execution_count": 21,
   "id": "c6bbf29f",
   "metadata": {},
   "outputs": [
    {
     "name": "stdout",
     "output_type": "stream",
     "text": [
      "+------------------------------------------------------------+\n",
      "|authors                                                     |\n",
      "+------------------------------------------------------------+\n",
      "|[{null, /authors/OL6535896A, null}]                         |\n",
      "|[{null, /authors/OL6535897A, null}]                         |\n",
      "|[{null, /authors/OL6535898A, null}]                         |\n",
      "|[{null, /authors/OL5900510A, null}]                         |\n",
      "|[{null, /authors/OL135548A, null}]                          |\n",
      "|[{null, /authors/OL6535899A, null}]                         |\n",
      "|[{null, /authors/OL4476275A, null}]                         |\n",
      "|[{{/authors/OL5360212A}, null, {\"key\":\"/type/author_role\"}}]|\n",
      "|[{null, /authors/OL133670A, null}]                          |\n",
      "|[{null, /authors/OL6535900A, null}]                         |\n",
      "|[{null, /authors/OL6535901A, null}]                         |\n",
      "|[{null, /authors/OL6535902A, null}]                         |\n",
      "|[{null, /authors/OL6535903A, null}]                         |\n",
      "|[{null, /authors/OL6533579A, null}]                         |\n",
      "|[{null, /authors/OL5570662A, null}]                         |\n",
      "|[{null, /authors/OL6535904A, null}]                         |\n",
      "|[{null, /authors/OL6535905A, null}]                         |\n",
      "|[{null, /authors/OL4328637A, null}]                         |\n",
      "|[{null, /authors/OL5459805A, null}]                         |\n",
      "|[{null, /authors/OL978880A, null}]                          |\n",
      "+------------------------------------------------------------+\n",
      "only showing top 20 rows\n",
      "\n"
     ]
    }
   ],
   "source": [
    "df2.show(false)"
   ]
  },
  {
   "cell_type": "code",
   "execution_count": 28,
   "id": "c35761b2",
   "metadata": {},
   "outputs": [
    {
     "ename": "<console>",
     "evalue": "28: error: type mismatch;",
     "output_type": "error",
     "traceback": [
      "<console>:28: error: type mismatch;",
      " found   : org.apache.spark.sql.ColumnName",
      " required: String",
      "       df2.withColumn($\"cols\",explode($\"authors\")).select($\"author\",$\"cols.key\",$\"cols.type\").show",
      "                      ^",
      ""
     ]
    }
   ],
   "source": [
    "df2.withColumn($\"cols\",explode($\"authors\")).select($\"author\",$\"cols.key\",$\"cols.type\").show"
   ]
  },
  {
   "cell_type": "code",
   "execution_count": null,
   "id": "6024de05",
   "metadata": {},
   "outputs": [],
   "source": []
  },
  {
   "cell_type": "code",
   "execution_count": null,
   "id": "9ee11aa9",
   "metadata": {},
   "outputs": [],
   "source": []
  },
  {
   "cell_type": "code",
   "execution_count": null,
   "id": "02a74b3f",
   "metadata": {},
   "outputs": [],
   "source": []
  }
 ],
 "metadata": {
  "kernelspec": {
   "display_name": "spylon-kernel",
   "language": "scala",
   "name": "spylon-kernel"
  },
  "language_info": {
   "codemirror_mode": "text/x-scala",
   "file_extension": ".scala",
   "help_links": [
    {
     "text": "MetaKernel Magics",
     "url": "https://metakernel.readthedocs.io/en/latest/source/README.html"
    }
   ],
   "mimetype": "text/x-scala",
   "name": "scala",
   "pygments_lexer": "scala",
   "version": "0.4.1"
  }
 },
 "nbformat": 4,
 "nbformat_minor": 5
}
