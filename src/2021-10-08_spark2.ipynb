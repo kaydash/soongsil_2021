{
 "cells": [
  {
   "cell_type": "markdown",
   "id": "2e67cb54",
   "metadata": {},
   "source": [
    "# Parquet 포맷"
   ]
  },
  {
   "cell_type": "code",
   "execution_count": 3,
   "id": "fe93cb7a",
   "metadata": {},
   "outputs": [
    {
     "data": {
      "text/plain": [
       "df: org.apache.spark.sql.DataFrame = [alternate_names: array<string>, authors: array<struct<author:struct<key:string>,key:string,type:string>> ... 74 more fields]\n",
       "df2: org.apache.spark.sql.DataFrame = [alternate_names: array<string>, authors: array<struct<author:struct<key:string>,key:string,type:string>> ... 74 more fields]\n"
      ]
     },
     "execution_count": 3,
     "metadata": {},
     "output_type": "execute_result"
    }
   ],
   "source": [
    "var df=spark.read.json(\"ol_cdump.json\")\n",
    "df.write.parquet(\"ol_cdump\")\n",
    "val df2=spark.read.parquet(\"ol_cdump\")"
   ]
  },
  {
   "cell_type": "markdown",
   "id": "c66a2793",
   "metadata": {},
   "source": [
    "# ORC 포맷"
   ]
  },
  {
   "cell_type": "code",
   "execution_count": 6,
   "id": "166a078a",
   "metadata": {},
   "outputs": [
    {
     "ename": "<console>",
     "evalue": "30: error: value read is not a member of org.apache.spark.sql.DataFrame",
     "output_type": "error",
     "traceback": [
      "<console>:30: error: value read is not a member of org.apache.spark.sql.DataFrame",
      "       df.read.orc(\"ol_cdump.orc\")",
      "          ^",
      ""
     ]
    }
   ],
   "source": [
    "var df=spark.read.json(\"ol_cdump.json\")\n",
    "df.write.format(\"orc\").save(\"ol_cdump.orc\")\n",
    "df.read.orc(\"ol_cdump.orc\")\n",
    "\n",
    "\n"
   ]
  },
  {
   "cell_type": "code",
   "execution_count": 4,
   "id": "4200b2a1",
   "metadata": {},
   "outputs": [
    {
     "ename": "<console>",
     "evalue": "26: error: not found: value $",
     "output_type": "error",
     "traceback": [
      "<console>:26: error: not found: value $",
      "       $ spark-shell",
      "       ^",
      "<console>:26: error: not found: value shell",
      "       $ spark-shell",
      "               ^",
      ""
     ]
    }
   ],
   "source": [
    "$ spark-shell\n"
   ]
  }
 ],
 "metadata": {
  "kernelspec": {
   "display_name": "spylon-kernel",
   "language": "scala",
   "name": "spylon-kernel"
  },
  "language_info": {
   "codemirror_mode": "text/x-scala",
   "file_extension": ".scala",
   "help_links": [
    {
     "text": "MetaKernel Magics",
     "url": "https://metakernel.readthedocs.io/en/latest/source/README.html"
    }
   ],
   "mimetype": "text/x-scala",
   "name": "scala",
   "pygments_lexer": "scala",
   "version": "0.4.1"
  }
 },
 "nbformat": 4,
 "nbformat_minor": 5
}
