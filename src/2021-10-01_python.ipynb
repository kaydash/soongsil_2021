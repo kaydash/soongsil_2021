{
 "cells": [
  {
   "cell_type": "code",
   "execution_count": 4,
   "id": "b5eae58d",
   "metadata": {},
   "outputs": [],
   "source": [
    "#Initializing PySpark\n",
    "from pyspark import SparkContext, SparkConf"
   ]
  },
  {
   "cell_type": "code",
   "execution_count": null,
   "id": "1d395078",
   "metadata": {},
   "outputs": [],
   "source": [
    "# #Spark Config\n",
    "\n",
    "'''\n",
    "conf = SparkConf().setAppName(\"sample_app\")\n",
    "sc = SparkContext(conf=conf)\n",
    "'''"
   ]
  },
  {
   "cell_type": "code",
   "execution_count": 7,
   "id": "ed57e006",
   "metadata": {},
   "outputs": [],
   "source": [
    "text_file=sc.textFile(\"./README.MD\")\n",
    "counts=text_file.flatMap(lambda line: line.split(\" \")).map(lambda word: (word,1)).reduceByKey(lambda a,b: a+b)"
   ]
  },
  {
   "cell_type": "code",
   "execution_count": 8,
   "id": "260e87d1",
   "metadata": {},
   "outputs": [
    {
     "name": "stderr",
     "output_type": "stream",
     "text": [
      "                                                                                \r"
     ]
    }
   ],
   "source": [
    "counts.saveAsTextFile(\"./output_python\")"
   ]
  },
  {
   "cell_type": "code",
   "execution_count": 9,
   "id": "72ec3610",
   "metadata": {},
   "outputs": [],
   "source": [
    "text_file=sc.textFile(\"./2M.ID.CONTENTS\")"
   ]
  },
  {
   "cell_type": "code",
   "execution_count": 10,
   "id": "460aae7b",
   "metadata": {},
   "outputs": [],
   "source": [
    "counts=text_file.flatMap(lambda line: line.split(\" \")).map(lambda word: (word,1)).reduceByKey(lambda a,b: a+b)"
   ]
  },
  {
   "cell_type": "code",
   "execution_count": 11,
   "id": "d81faaea",
   "metadata": {},
   "outputs": [
    {
     "name": "stderr",
     "output_type": "stream",
     "text": [
      "                                                                                \r"
     ]
    }
   ],
   "source": [
    "counts.saveAsTextFile(\"./output_python2\")"
   ]
  }
 ],
 "metadata": {
  "kernelspec": {
   "display_name": "Python 3 (ipykernel)",
   "language": "python",
   "name": "python3"
  },
  "language_info": {
   "codemirror_mode": {
    "name": "ipython",
    "version": 3
   },
   "file_extension": ".py",
   "mimetype": "text/x-python",
   "name": "python",
   "nbconvert_exporter": "python",
   "pygments_lexer": "ipython3",
   "version": "3.9.6"
  }
 },
 "nbformat": 4,
 "nbformat_minor": 5
}
