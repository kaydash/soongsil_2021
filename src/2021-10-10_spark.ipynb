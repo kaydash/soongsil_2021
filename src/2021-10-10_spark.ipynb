{
 "cells": [
  {
   "cell_type": "code",
   "execution_count": 3,
   "id": "1fcd81da",
   "metadata": {},
   "outputs": [
    {
     "data": {
      "text/plain": [
       "textFile: org.apache.spark.rdd.RDD[String] = ./README.MD MapPartitionsRDD[3] at textFile at <console>:25\n"
      ]
     },
     "execution_count": 3,
     "metadata": {},
     "output_type": "execute_result"
    }
   ],
   "source": [
    "val textFile=sc.textFile(\"./README.MD\")"
   ]
  },
  {
   "cell_type": "code",
   "execution_count": 4,
   "id": "6c20a9c4",
   "metadata": {},
   "outputs": [
    {
     "data": {
      "text/plain": [
       "res1: Long = 3\n"
      ]
     },
     "execution_count": 4,
     "metadata": {},
     "output_type": "execute_result"
    }
   ],
   "source": [
    "textFile.count()"
   ]
  },
  {
   "cell_type": "code",
   "execution_count": 5,
   "id": "3228504a",
   "metadata": {},
   "outputs": [
    {
     "data": {
      "text/plain": [
       "res2: String = i am a boy.\n"
      ]
     },
     "execution_count": 5,
     "metadata": {},
     "output_type": "execute_result"
    }
   ],
   "source": [
    "textFile.first()"
   ]
  },
  {
   "cell_type": "code",
   "execution_count": 6,
   "id": "54bbdb1c",
   "metadata": {},
   "outputs": [
    {
     "data": {
      "text/plain": [
       "lineLengths: org.apache.spark.rdd.RDD[Int] = MapPartitionsRDD[4] at map at <console>:26\n"
      ]
     },
     "execution_count": 6,
     "metadata": {},
     "output_type": "execute_result"
    }
   ],
   "source": [
    "val lineLengths=textFile.map(s=>s.length)"
   ]
  },
  {
   "cell_type": "code",
   "execution_count": 7,
   "id": "c848c49b",
   "metadata": {},
   "outputs": [
    {
     "data": {
      "text/plain": [
       "totalLength: Int = 39\n"
      ]
     },
     "execution_count": 7,
     "metadata": {},
     "output_type": "execute_result"
    }
   ],
   "source": [
    "val totalLength=lineLengths.reduce((a,b)=>a+b)"
   ]
  },
  {
   "cell_type": "code",
   "execution_count": 8,
   "id": "21c5aad4",
   "metadata": {},
   "outputs": [
    {
     "data": {
      "text/plain": [
       "totalText: String = look at this.i am a boy.here is my name\n"
      ]
     },
     "execution_count": 8,
     "metadata": {},
     "output_type": "execute_result"
    }
   ],
   "source": [
    "val totalText=textFile.reduce((a,b)=>a+b)"
   ]
  },
  {
   "cell_type": "code",
   "execution_count": 9,
   "id": "91f8fee3",
   "metadata": {},
   "outputs": [
    {
     "data": {
      "text/plain": [
       "counts: org.apache.spark.rdd.RDD[(String, Int)] = ShuffledRDD[7] at reduceByKey at <console>:26\n"
      ]
     },
     "execution_count": 9,
     "metadata": {},
     "output_type": "execute_result"
    }
   ],
   "source": [
    "var counts=textFile.flatMap(line=>line.split(\" \")).map(word=>(word,1)).reduceByKey(_+_)"
   ]
  },
  {
   "cell_type": "code",
   "execution_count": 10,
   "id": "73138b35",
   "metadata": {},
   "outputs": [],
   "source": [
    "counts.saveAsTextFile(\"./mapreduce_result\")"
   ]
  },
  {
   "cell_type": "code",
   "execution_count": 11,
   "id": "2453c200",
   "metadata": {},
   "outputs": [
    {
     "data": {
      "text/plain": [
       "textFile: org.apache.spark.rdd.RDD[String] = ./2M.ID.CONTENTS MapPartitionsRDD[10] at textFile at <console>:25\n"
      ]
     },
     "execution_count": 11,
     "metadata": {},
     "output_type": "execute_result"
    }
   ],
   "source": [
    "val textFile=sc.textFile(\"./2M.ID.CONTENTS\")"
   ]
  },
  {
   "cell_type": "code",
   "execution_count": 12,
   "id": "fb5cdb63",
   "metadata": {},
   "outputs": [
    {
     "data": {
      "text/plain": [
       "counts: org.apache.spark.rdd.RDD[(String, Int)] = ShuffledRDD[13] at reduceByKey at <console>:26\n"
      ]
     },
     "execution_count": 12,
     "metadata": {},
     "output_type": "execute_result"
    }
   ],
   "source": [
    "var counts=textFile.flatMap(line=>line.split(\" \")).map(word=>(word,1)).reduceByKey(_+_)"
   ]
  },
  {
   "cell_type": "code",
   "execution_count": 13,
   "id": "7b430afb",
   "metadata": {},
   "outputs": [],
   "source": [
    "counts.saveAsTextFile(\"./mapreduce_result2\")"
   ]
  }
 ],
 "metadata": {
  "kernelspec": {
   "display_name": "spylon-kernel",
   "language": "scala",
   "name": "spylon-kernel"
  },
  "language_info": {
   "codemirror_mode": "text/x-scala",
   "file_extension": ".scala",
   "help_links": [
    {
     "text": "MetaKernel Magics",
     "url": "https://metakernel.readthedocs.io/en/latest/source/README.html"
    }
   ],
   "mimetype": "text/x-scala",
   "name": "scala",
   "pygments_lexer": "scala",
   "version": "0.4.1"
  }
 },
 "nbformat": 4,
 "nbformat_minor": 5
}
