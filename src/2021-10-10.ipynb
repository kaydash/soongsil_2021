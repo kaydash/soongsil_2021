{
 "cells": [
  {
   "cell_type": "code",
   "execution_count": 10,
   "id": "1fcd81da",
   "metadata": {},
   "outputs": [
    {
     "data": {
      "text/plain": [
       "textFile: org.apache.spark.rdd.RDD[String] = ./README.MD MapPartitionsRDD[11] at textFile at <console>:25\n"
      ]
     },
     "execution_count": 10,
     "metadata": {},
     "output_type": "execute_result"
    }
   ],
   "source": [
    "val textFile=sc.textFile(\"./README.MD\")"
   ]
  },
  {
   "cell_type": "code",
   "execution_count": 2,
   "id": "6c20a9c4",
   "metadata": {},
   "outputs": [
    {
     "data": {
      "text/plain": [
       "res0: Long = 3\n"
      ]
     },
     "execution_count": 2,
     "metadata": {},
     "output_type": "execute_result"
    }
   ],
   "source": [
    "textFile.count()"
   ]
  },
  {
   "cell_type": "code",
   "execution_count": 3,
   "id": "3228504a",
   "metadata": {},
   "outputs": [
    {
     "data": {
      "text/plain": [
       "res1: String = i am a boy.\n"
      ]
     },
     "execution_count": 3,
     "metadata": {},
     "output_type": "execute_result"
    }
   ],
   "source": [
    "textFile.first()"
   ]
  },
  {
   "cell_type": "code",
   "execution_count": 4,
   "id": "54bbdb1c",
   "metadata": {},
   "outputs": [
    {
     "data": {
      "text/plain": [
       "lineLengths: org.apache.spark.rdd.RDD[Int] = MapPartitionsRDD[2] at map at <console>:26\n"
      ]
     },
     "execution_count": 4,
     "metadata": {},
     "output_type": "execute_result"
    }
   ],
   "source": [
    "val lineLengths=textFile.map(s=>s.length)"
   ]
  },
  {
   "cell_type": "code",
   "execution_count": 5,
   "id": "c848c49b",
   "metadata": {},
   "outputs": [
    {
     "data": {
      "text/plain": [
       "totalLength: Int = 39\n"
      ]
     },
     "execution_count": 5,
     "metadata": {},
     "output_type": "execute_result"
    }
   ],
   "source": [
    "val totalLength=lineLengths.reduce((a,b)=>a+b)"
   ]
  },
  {
   "cell_type": "code",
   "execution_count": 6,
   "id": "21c5aad4",
   "metadata": {},
   "outputs": [
    {
     "data": {
      "text/plain": [
       "totalText: String = look at this.i am a boy.here is my name\n"
      ]
     },
     "execution_count": 6,
     "metadata": {},
     "output_type": "execute_result"
    }
   ],
   "source": [
    "val totalText=textFile.reduce((a,b)=>a+b)"
   ]
  },
  {
   "cell_type": "code",
   "execution_count": 7,
   "id": "91f8fee3",
   "metadata": {},
   "outputs": [
    {
     "data": {
      "text/plain": [
       "counts: org.apache.spark.rdd.RDD[(String, Int)] = ShuffledRDD[5] at reduceByKey at <console>:26\n"
      ]
     },
     "execution_count": 7,
     "metadata": {},
     "output_type": "execute_result"
    }
   ],
   "source": [
    "var counts=textFile.flatMap(line=>line.split(\" \")).map(word=>(word,1)).reduceByKey(_+_)"
   ]
  },
  {
   "cell_type": "code",
   "execution_count": 8,
   "id": "2453c200",
   "metadata": {},
   "outputs": [
    {
     "data": {
      "text/plain": [
       "textFile: org.apache.spark.rdd.RDD[String] = /data/2M.ID.CONTENTS MapPartitionsRDD[7] at textFile at <console>:25\n"
      ]
     },
     "execution_count": 8,
     "metadata": {},
     "output_type": "execute_result"
    }
   ],
   "source": [
    "val textFile=sc.textFile(\"/data/2M.ID.CONTENTS\")"
   ]
  },
  {
   "cell_type": "code",
   "execution_count": 9,
   "id": "fb5cdb63",
   "metadata": {},
   "outputs": [
    {
     "ename": "org.apache.hadoop.mapred.InvalidInputException",
     "evalue": " Input path does not exist: file:/data/2M.ID.CONTENTS",
     "output_type": "error",
     "traceback": [
      "org.apache.hadoop.mapred.InvalidInputException: Input path does not exist: file:/data/2M.ID.CONTENTS",
      "  at org.apache.hadoop.mapred.FileInputFormat.singleThreadedListStatus(FileInputFormat.java:297)",
      "  at org.apache.hadoop.mapred.FileInputFormat.listStatus(FileInputFormat.java:239)",
      "  at org.apache.hadoop.mapred.FileInputFormat.getSplits(FileInputFormat.java:325)",
      "  at org.apache.spark.rdd.HadoopRDD.getPartitions(HadoopRDD.scala:205)",
      "  at org.apache.spark.rdd.RDD.$anonfun$partitions$2(RDD.scala:300)",
      "  at scala.Option.getOrElse(Option.scala:189)",
      "  at org.apache.spark.rdd.RDD.partitions(RDD.scala:296)",
      "  at org.apache.spark.rdd.MapPartitionsRDD.getPartitions(MapPartitionsRDD.scala:49)",
      "  at org.apache.spark.rdd.RDD.$anonfun$partitions$2(RDD.scala:300)",
      "  at scala.Option.getOrElse(Option.scala:189)",
      "  at org.apache.spark.rdd.RDD.partitions(RDD.scala:296)",
      "  at org.apache.spark.rdd.MapPartitionsRDD.getPartitions(MapPartitionsRDD.scala:49)",
      "  at org.apache.spark.rdd.RDD.$anonfun$partitions$2(RDD.scala:300)",
      "  at scala.Option.getOrElse(Option.scala:189)",
      "  at org.apache.spark.rdd.RDD.partitions(RDD.scala:296)",
      "  at org.apache.spark.rdd.MapPartitionsRDD.getPartitions(MapPartitionsRDD.scala:49)",
      "  at org.apache.spark.rdd.RDD.$anonfun$partitions$2(RDD.scala:300)",
      "  at scala.Option.getOrElse(Option.scala:189)",
      "  at org.apache.spark.rdd.RDD.partitions(RDD.scala:296)",
      "  at org.apache.spark.Partitioner$.$anonfun$defaultPartitioner$4(Partitioner.scala:78)",
      "  at org.apache.spark.Partitioner$.$anonfun$defaultPartitioner$4$adapted(Partitioner.scala:78)",
      "  at scala.collection.TraversableLike.$anonfun$map$1(TraversableLike.scala:238)",
      "  at scala.collection.immutable.List.foreach(List.scala:392)",
      "  at scala.collection.TraversableLike.map(TraversableLike.scala:238)",
      "  at scala.collection.TraversableLike.map$(TraversableLike.scala:231)",
      "  at scala.collection.immutable.List.map(List.scala:298)",
      "  at org.apache.spark.Partitioner$.defaultPartitioner(Partitioner.scala:78)",
      "  at org.apache.spark.rdd.PairRDDFunctions.$anonfun$reduceByKey$4(PairRDDFunctions.scala:322)",
      "  at org.apache.spark.rdd.RDDOperationScope$.withScope(RDDOperationScope.scala:151)",
      "  at org.apache.spark.rdd.RDDOperationScope$.withScope(RDDOperationScope.scala:112)",
      "  at org.apache.spark.rdd.RDD.withScope(RDD.scala:414)",
      "  at org.apache.spark.rdd.PairRDDFunctions.reduceByKey(PairRDDFunctions.scala:322)",
      "  ... 37 elided",
      ""
     ]
    }
   ],
   "source": [
    "var counts=textFile.flatMap(line=>line.split(\" \")).map(word=>(word,1)).reduceByKey(_+_)"
   ]
  },
  {
   "cell_type": "code",
   "execution_count": null,
   "id": "7b430afb",
   "metadata": {},
   "outputs": [],
   "source": [
    "counts.saveAsTextFile(\"./mapreduce_result2\")"
   ]
  }
 ],
 "metadata": {
  "kernelspec": {
   "display_name": "spylon-kernel",
   "language": "scala",
   "name": "spylon-kernel"
  },
  "language_info": {
   "codemirror_mode": "text/x-scala",
   "file_extension": ".scala",
   "help_links": [
    {
     "text": "MetaKernel Magics",
     "url": "https://metakernel.readthedocs.io/en/latest/source/README.html"
    }
   ],
   "mimetype": "text/x-scala",
   "name": "scala",
   "pygments_lexer": "scala",
   "version": "0.4.1"
  }
 },
 "nbformat": 4,
 "nbformat_minor": 5
}
